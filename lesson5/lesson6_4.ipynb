{
 "cells": [
  {
   "cell_type": "code",
   "execution_count": 28,
   "metadata": {},
   "outputs": [
    {
     "data": {
      "text/plain": [
       "psycopg2.extensions.connection"
      ]
     },
     "execution_count": 28,
     "metadata": {},
     "output_type": "execute_result"
    }
   ],
   "source": [
    "import psycopg2\n",
    "conn = psycopg2.connect(\n",
    "    database=\"mydatabase_a05\",\n",
    "    user=\"a05\",\n",
    "    password=\"raspberry\",\n",
    "    host=\"piRobert0301.local\",  # 通常是 '127.0.0.1' 或 'localhost'\n",
    "    port=\"5432\")\n",
    "\n",
    "type(conn)"
   ]
  },
  {
   "cell_type": "code",
   "execution_count": 29,
   "metadata": {},
   "outputs": [],
   "source": [
    "sql = '''CREATE TABLE IF NOT EXISTS 市場(\n",
    "\tname VARCHAR(20),\n",
    "\tcountry VARCHAR(20),\n",
    "\tPRIMARY KEY(name)\n",
    ");'''\n",
    "\n",
    "cursor = conn.cursor()\n",
    "cursor.execute(sql)\n",
    "\n",
    "sql1 = '''CREATE TABLE IF NOT EXISTS 股市(\n",
    "stock_id SERIAL,\n",
    "date DATE,\n",
    "open NUMERIC(17,10),\n",
    "high NUMERIC(17,10),\n",
    "low NUMERIC(17,10),\n",
    "close NUMERIC(17,10),\n",
    "adj_close NUMERIC(17,10),\n",
    "volume BIGINT DEFAULT 0,\n",
    "name VARCHAR(20),\n",
    "PRIMARY KEY(stock_id),\n",
    "FOREIGN KEY(name) REFERENCES 市場(name) \n",
    "ON DELETE NO ACTION\n",
    "ON UPDATE CASCADE\n",
    ");'''\n",
    "\n",
    "cursor.execute(sql1)\n",
    "conn.commit()\n",
    "cursor.close()\n",
    "conn.close()"
   ]
  },
  {
   "cell_type": "code",
   "execution_count": null,
   "metadata": {},
   "outputs": [],
   "source": []
  }
 ],
 "metadata": {
  "kernelspec": {
   "display_name": "jason",
   "language": "python",
   "name": "python3"
  },
  "language_info": {
   "codemirror_mode": {
    "name": "ipython",
    "version": 3
   },
   "file_extension": ".py",
   "mimetype": "text/x-python",
   "name": "python",
   "nbconvert_exporter": "python",
   "pygments_lexer": "ipython3",
   "version": "3.10.15"
  }
 },
 "nbformat": 4,
 "nbformat_minor": 2
}
